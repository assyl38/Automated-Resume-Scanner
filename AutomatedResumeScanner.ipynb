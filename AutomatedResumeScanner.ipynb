{
  "nbformat": 4,
  "nbformat_minor": 0,
  "metadata": {
    "colab": {
      "provenance": [],
      "gpuType": "T4"
    },
    "kernelspec": {
      "name": "python3",
      "display_name": "Python 3"
    },
    "language_info": {
      "name": "python"
    },
    "accelerator": "GPU",
    "widgets": {
      "application/vnd.jupyter.widget-state+json": {
        "85d8f6bdb219400c92c9a91abe81e6a7": {
          "model_module": "@jupyter-widgets/controls",
          "model_name": "HBoxModel",
          "model_module_version": "1.5.0",
          "state": {
            "_dom_classes": [],
            "_model_module": "@jupyter-widgets/controls",
            "_model_module_version": "1.5.0",
            "_model_name": "HBoxModel",
            "_view_count": null,
            "_view_module": "@jupyter-widgets/controls",
            "_view_module_version": "1.5.0",
            "_view_name": "HBoxView",
            "box_style": "",
            "children": [
              "IPY_MODEL_76f69603f3344c1c8b2e798851f561c4",
              "IPY_MODEL_31a8d648682c4159975122ed9ad333f7",
              "IPY_MODEL_1c2b9aaf19d7448082e32d34e937df76"
            ],
            "layout": "IPY_MODEL_625369011a4d42c981eeebcf2b5099f0"
          }
        },
        "76f69603f3344c1c8b2e798851f561c4": {
          "model_module": "@jupyter-widgets/controls",
          "model_name": "HTMLModel",
          "model_module_version": "1.5.0",
          "state": {
            "_dom_classes": [],
            "_model_module": "@jupyter-widgets/controls",
            "_model_module_version": "1.5.0",
            "_model_name": "HTMLModel",
            "_view_count": null,
            "_view_module": "@jupyter-widgets/controls",
            "_view_module_version": "1.5.0",
            "_view_name": "HTMLView",
            "description": "",
            "description_tooltip": null,
            "layout": "IPY_MODEL_96b3ef5c5e63425785e0d2c828d5065a",
            "placeholder": "​",
            "style": "IPY_MODEL_d081cd2b0c684d2aaa19acd005ec3bfa",
            "value": "Fetching 12 files: 100%"
          }
        },
        "31a8d648682c4159975122ed9ad333f7": {
          "model_module": "@jupyter-widgets/controls",
          "model_name": "FloatProgressModel",
          "model_module_version": "1.5.0",
          "state": {
            "_dom_classes": [],
            "_model_module": "@jupyter-widgets/controls",
            "_model_module_version": "1.5.0",
            "_model_name": "FloatProgressModel",
            "_view_count": null,
            "_view_module": "@jupyter-widgets/controls",
            "_view_module_version": "1.5.0",
            "_view_name": "ProgressView",
            "bar_style": "success",
            "description": "",
            "description_tooltip": null,
            "layout": "IPY_MODEL_0c1430b6598e49c29f6ee90c813001e8",
            "max": 12,
            "min": 0,
            "orientation": "horizontal",
            "style": "IPY_MODEL_1642ed4310674affbd4a65b54c9b5830",
            "value": 12
          }
        },
        "1c2b9aaf19d7448082e32d34e937df76": {
          "model_module": "@jupyter-widgets/controls",
          "model_name": "HTMLModel",
          "model_module_version": "1.5.0",
          "state": {
            "_dom_classes": [],
            "_model_module": "@jupyter-widgets/controls",
            "_model_module_version": "1.5.0",
            "_model_name": "HTMLModel",
            "_view_count": null,
            "_view_module": "@jupyter-widgets/controls",
            "_view_module_version": "1.5.0",
            "_view_name": "HTMLView",
            "description": "",
            "description_tooltip": null,
            "layout": "IPY_MODEL_4dba74190675476a95be715efe6d814d",
            "placeholder": "​",
            "style": "IPY_MODEL_655b15db427e40218053b0f73bbd786a",
            "value": " 12/12 [00:00&lt;00:00, 461.98it/s]"
          }
        },
        "625369011a4d42c981eeebcf2b5099f0": {
          "model_module": "@jupyter-widgets/base",
          "model_name": "LayoutModel",
          "model_module_version": "1.2.0",
          "state": {
            "_model_module": "@jupyter-widgets/base",
            "_model_module_version": "1.2.0",
            "_model_name": "LayoutModel",
            "_view_count": null,
            "_view_module": "@jupyter-widgets/base",
            "_view_module_version": "1.2.0",
            "_view_name": "LayoutView",
            "align_content": null,
            "align_items": null,
            "align_self": null,
            "border": null,
            "bottom": null,
            "display": null,
            "flex": null,
            "flex_flow": null,
            "grid_area": null,
            "grid_auto_columns": null,
            "grid_auto_flow": null,
            "grid_auto_rows": null,
            "grid_column": null,
            "grid_gap": null,
            "grid_row": null,
            "grid_template_areas": null,
            "grid_template_columns": null,
            "grid_template_rows": null,
            "height": null,
            "justify_content": null,
            "justify_items": null,
            "left": null,
            "margin": null,
            "max_height": null,
            "max_width": null,
            "min_height": null,
            "min_width": null,
            "object_fit": null,
            "object_position": null,
            "order": null,
            "overflow": null,
            "overflow_x": null,
            "overflow_y": null,
            "padding": null,
            "right": null,
            "top": null,
            "visibility": null,
            "width": null
          }
        },
        "96b3ef5c5e63425785e0d2c828d5065a": {
          "model_module": "@jupyter-widgets/base",
          "model_name": "LayoutModel",
          "model_module_version": "1.2.0",
          "state": {
            "_model_module": "@jupyter-widgets/base",
            "_model_module_version": "1.2.0",
            "_model_name": "LayoutModel",
            "_view_count": null,
            "_view_module": "@jupyter-widgets/base",
            "_view_module_version": "1.2.0",
            "_view_name": "LayoutView",
            "align_content": null,
            "align_items": null,
            "align_self": null,
            "border": null,
            "bottom": null,
            "display": null,
            "flex": null,
            "flex_flow": null,
            "grid_area": null,
            "grid_auto_columns": null,
            "grid_auto_flow": null,
            "grid_auto_rows": null,
            "grid_column": null,
            "grid_gap": null,
            "grid_row": null,
            "grid_template_areas": null,
            "grid_template_columns": null,
            "grid_template_rows": null,
            "height": null,
            "justify_content": null,
            "justify_items": null,
            "left": null,
            "margin": null,
            "max_height": null,
            "max_width": null,
            "min_height": null,
            "min_width": null,
            "object_fit": null,
            "object_position": null,
            "order": null,
            "overflow": null,
            "overflow_x": null,
            "overflow_y": null,
            "padding": null,
            "right": null,
            "top": null,
            "visibility": null,
            "width": null
          }
        },
        "d081cd2b0c684d2aaa19acd005ec3bfa": {
          "model_module": "@jupyter-widgets/controls",
          "model_name": "DescriptionStyleModel",
          "model_module_version": "1.5.0",
          "state": {
            "_model_module": "@jupyter-widgets/controls",
            "_model_module_version": "1.5.0",
            "_model_name": "DescriptionStyleModel",
            "_view_count": null,
            "_view_module": "@jupyter-widgets/base",
            "_view_module_version": "1.2.0",
            "_view_name": "StyleView",
            "description_width": ""
          }
        },
        "0c1430b6598e49c29f6ee90c813001e8": {
          "model_module": "@jupyter-widgets/base",
          "model_name": "LayoutModel",
          "model_module_version": "1.2.0",
          "state": {
            "_model_module": "@jupyter-widgets/base",
            "_model_module_version": "1.2.0",
            "_model_name": "LayoutModel",
            "_view_count": null,
            "_view_module": "@jupyter-widgets/base",
            "_view_module_version": "1.2.0",
            "_view_name": "LayoutView",
            "align_content": null,
            "align_items": null,
            "align_self": null,
            "border": null,
            "bottom": null,
            "display": null,
            "flex": null,
            "flex_flow": null,
            "grid_area": null,
            "grid_auto_columns": null,
            "grid_auto_flow": null,
            "grid_auto_rows": null,
            "grid_column": null,
            "grid_gap": null,
            "grid_row": null,
            "grid_template_areas": null,
            "grid_template_columns": null,
            "grid_template_rows": null,
            "height": null,
            "justify_content": null,
            "justify_items": null,
            "left": null,
            "margin": null,
            "max_height": null,
            "max_width": null,
            "min_height": null,
            "min_width": null,
            "object_fit": null,
            "object_position": null,
            "order": null,
            "overflow": null,
            "overflow_x": null,
            "overflow_y": null,
            "padding": null,
            "right": null,
            "top": null,
            "visibility": null,
            "width": null
          }
        },
        "1642ed4310674affbd4a65b54c9b5830": {
          "model_module": "@jupyter-widgets/controls",
          "model_name": "ProgressStyleModel",
          "model_module_version": "1.5.0",
          "state": {
            "_model_module": "@jupyter-widgets/controls",
            "_model_module_version": "1.5.0",
            "_model_name": "ProgressStyleModel",
            "_view_count": null,
            "_view_module": "@jupyter-widgets/base",
            "_view_module_version": "1.2.0",
            "_view_name": "StyleView",
            "bar_color": null,
            "description_width": ""
          }
        },
        "4dba74190675476a95be715efe6d814d": {
          "model_module": "@jupyter-widgets/base",
          "model_name": "LayoutModel",
          "model_module_version": "1.2.0",
          "state": {
            "_model_module": "@jupyter-widgets/base",
            "_model_module_version": "1.2.0",
            "_model_name": "LayoutModel",
            "_view_count": null,
            "_view_module": "@jupyter-widgets/base",
            "_view_module_version": "1.2.0",
            "_view_name": "LayoutView",
            "align_content": null,
            "align_items": null,
            "align_self": null,
            "border": null,
            "bottom": null,
            "display": null,
            "flex": null,
            "flex_flow": null,
            "grid_area": null,
            "grid_auto_columns": null,
            "grid_auto_flow": null,
            "grid_auto_rows": null,
            "grid_column": null,
            "grid_gap": null,
            "grid_row": null,
            "grid_template_areas": null,
            "grid_template_columns": null,
            "grid_template_rows": null,
            "height": null,
            "justify_content": null,
            "justify_items": null,
            "left": null,
            "margin": null,
            "max_height": null,
            "max_width": null,
            "min_height": null,
            "min_width": null,
            "object_fit": null,
            "object_position": null,
            "order": null,
            "overflow": null,
            "overflow_x": null,
            "overflow_y": null,
            "padding": null,
            "right": null,
            "top": null,
            "visibility": null,
            "width": null
          }
        },
        "655b15db427e40218053b0f73bbd786a": {
          "model_module": "@jupyter-widgets/controls",
          "model_name": "DescriptionStyleModel",
          "model_module_version": "1.5.0",
          "state": {
            "_model_module": "@jupyter-widgets/controls",
            "_model_module_version": "1.5.0",
            "_model_name": "DescriptionStyleModel",
            "_view_count": null,
            "_view_module": "@jupyter-widgets/base",
            "_view_module_version": "1.2.0",
            "_view_name": "StyleView",
            "description_width": ""
          }
        },
        "9bddac06c07546b0add939bf43ffa14d": {
          "model_module": "@jupyter-widgets/controls",
          "model_name": "HBoxModel",
          "model_module_version": "1.5.0",
          "state": {
            "_dom_classes": [],
            "_model_module": "@jupyter-widgets/controls",
            "_model_module_version": "1.5.0",
            "_model_name": "HBoxModel",
            "_view_count": null,
            "_view_module": "@jupyter-widgets/controls",
            "_view_module_version": "1.5.0",
            "_view_name": "HBoxView",
            "box_style": "",
            "children": [
              "IPY_MODEL_27b32f2480454b6088e6855e1d220565",
              "IPY_MODEL_45dea2a4aea24921a19daa5069b6fac0",
              "IPY_MODEL_6d586f9ac5b0441ebfb4838ca84e4ef7"
            ],
            "layout": "IPY_MODEL_57325a401b2c41b79d645055f021e796"
          }
        },
        "27b32f2480454b6088e6855e1d220565": {
          "model_module": "@jupyter-widgets/controls",
          "model_name": "HTMLModel",
          "model_module_version": "1.5.0",
          "state": {
            "_dom_classes": [],
            "_model_module": "@jupyter-widgets/controls",
            "_model_module_version": "1.5.0",
            "_model_name": "HTMLModel",
            "_view_count": null,
            "_view_module": "@jupyter-widgets/controls",
            "_view_module_version": "1.5.0",
            "_view_name": "HTMLView",
            "description": "",
            "description_tooltip": null,
            "layout": "IPY_MODEL_dc993a1bb9564a9bb7ce15c79338edb8",
            "placeholder": "​",
            "style": "IPY_MODEL_a4f522e5c4a047628889368659744920",
            "value": "Loading checkpoint shards: 100%"
          }
        },
        "45dea2a4aea24921a19daa5069b6fac0": {
          "model_module": "@jupyter-widgets/controls",
          "model_name": "FloatProgressModel",
          "model_module_version": "1.5.0",
          "state": {
            "_dom_classes": [],
            "_model_module": "@jupyter-widgets/controls",
            "_model_module_version": "1.5.0",
            "_model_name": "FloatProgressModel",
            "_view_count": null,
            "_view_module": "@jupyter-widgets/controls",
            "_view_module_version": "1.5.0",
            "_view_name": "ProgressView",
            "bar_style": "success",
            "description": "",
            "description_tooltip": null,
            "layout": "IPY_MODEL_43a25d8c7c4340e1ab5e519fd07f4132",
            "max": 2,
            "min": 0,
            "orientation": "horizontal",
            "style": "IPY_MODEL_9d75c5aed8444cba9ef438128605784a",
            "value": 2
          }
        },
        "6d586f9ac5b0441ebfb4838ca84e4ef7": {
          "model_module": "@jupyter-widgets/controls",
          "model_name": "HTMLModel",
          "model_module_version": "1.5.0",
          "state": {
            "_dom_classes": [],
            "_model_module": "@jupyter-widgets/controls",
            "_model_module_version": "1.5.0",
            "_model_name": "HTMLModel",
            "_view_count": null,
            "_view_module": "@jupyter-widgets/controls",
            "_view_module_version": "1.5.0",
            "_view_name": "HTMLView",
            "description": "",
            "description_tooltip": null,
            "layout": "IPY_MODEL_ef8d9aa9e0814d28a69a820f0f8444eb",
            "placeholder": "​",
            "style": "IPY_MODEL_c4da0c3b7a3e4b9c905b368932b57a34",
            "value": " 2/2 [00:14&lt;00:00,  7.05s/it]"
          }
        },
        "57325a401b2c41b79d645055f021e796": {
          "model_module": "@jupyter-widgets/base",
          "model_name": "LayoutModel",
          "model_module_version": "1.2.0",
          "state": {
            "_model_module": "@jupyter-widgets/base",
            "_model_module_version": "1.2.0",
            "_model_name": "LayoutModel",
            "_view_count": null,
            "_view_module": "@jupyter-widgets/base",
            "_view_module_version": "1.2.0",
            "_view_name": "LayoutView",
            "align_content": null,
            "align_items": null,
            "align_self": null,
            "border": null,
            "bottom": null,
            "display": null,
            "flex": null,
            "flex_flow": null,
            "grid_area": null,
            "grid_auto_columns": null,
            "grid_auto_flow": null,
            "grid_auto_rows": null,
            "grid_column": null,
            "grid_gap": null,
            "grid_row": null,
            "grid_template_areas": null,
            "grid_template_columns": null,
            "grid_template_rows": null,
            "height": null,
            "justify_content": null,
            "justify_items": null,
            "left": null,
            "margin": null,
            "max_height": null,
            "max_width": null,
            "min_height": null,
            "min_width": null,
            "object_fit": null,
            "object_position": null,
            "order": null,
            "overflow": null,
            "overflow_x": null,
            "overflow_y": null,
            "padding": null,
            "right": null,
            "top": null,
            "visibility": null,
            "width": null
          }
        },
        "dc993a1bb9564a9bb7ce15c79338edb8": {
          "model_module": "@jupyter-widgets/base",
          "model_name": "LayoutModel",
          "model_module_version": "1.2.0",
          "state": {
            "_model_module": "@jupyter-widgets/base",
            "_model_module_version": "1.2.0",
            "_model_name": "LayoutModel",
            "_view_count": null,
            "_view_module": "@jupyter-widgets/base",
            "_view_module_version": "1.2.0",
            "_view_name": "LayoutView",
            "align_content": null,
            "align_items": null,
            "align_self": null,
            "border": null,
            "bottom": null,
            "display": null,
            "flex": null,
            "flex_flow": null,
            "grid_area": null,
            "grid_auto_columns": null,
            "grid_auto_flow": null,
            "grid_auto_rows": null,
            "grid_column": null,
            "grid_gap": null,
            "grid_row": null,
            "grid_template_areas": null,
            "grid_template_columns": null,
            "grid_template_rows": null,
            "height": null,
            "justify_content": null,
            "justify_items": null,
            "left": null,
            "margin": null,
            "max_height": null,
            "max_width": null,
            "min_height": null,
            "min_width": null,
            "object_fit": null,
            "object_position": null,
            "order": null,
            "overflow": null,
            "overflow_x": null,
            "overflow_y": null,
            "padding": null,
            "right": null,
            "top": null,
            "visibility": null,
            "width": null
          }
        },
        "a4f522e5c4a047628889368659744920": {
          "model_module": "@jupyter-widgets/controls",
          "model_name": "DescriptionStyleModel",
          "model_module_version": "1.5.0",
          "state": {
            "_model_module": "@jupyter-widgets/controls",
            "_model_module_version": "1.5.0",
            "_model_name": "DescriptionStyleModel",
            "_view_count": null,
            "_view_module": "@jupyter-widgets/base",
            "_view_module_version": "1.2.0",
            "_view_name": "StyleView",
            "description_width": ""
          }
        },
        "43a25d8c7c4340e1ab5e519fd07f4132": {
          "model_module": "@jupyter-widgets/base",
          "model_name": "LayoutModel",
          "model_module_version": "1.2.0",
          "state": {
            "_model_module": "@jupyter-widgets/base",
            "_model_module_version": "1.2.0",
            "_model_name": "LayoutModel",
            "_view_count": null,
            "_view_module": "@jupyter-widgets/base",
            "_view_module_version": "1.2.0",
            "_view_name": "LayoutView",
            "align_content": null,
            "align_items": null,
            "align_self": null,
            "border": null,
            "bottom": null,
            "display": null,
            "flex": null,
            "flex_flow": null,
            "grid_area": null,
            "grid_auto_columns": null,
            "grid_auto_flow": null,
            "grid_auto_rows": null,
            "grid_column": null,
            "grid_gap": null,
            "grid_row": null,
            "grid_template_areas": null,
            "grid_template_columns": null,
            "grid_template_rows": null,
            "height": null,
            "justify_content": null,
            "justify_items": null,
            "left": null,
            "margin": null,
            "max_height": null,
            "max_width": null,
            "min_height": null,
            "min_width": null,
            "object_fit": null,
            "object_position": null,
            "order": null,
            "overflow": null,
            "overflow_x": null,
            "overflow_y": null,
            "padding": null,
            "right": null,
            "top": null,
            "visibility": null,
            "width": null
          }
        },
        "9d75c5aed8444cba9ef438128605784a": {
          "model_module": "@jupyter-widgets/controls",
          "model_name": "ProgressStyleModel",
          "model_module_version": "1.5.0",
          "state": {
            "_model_module": "@jupyter-widgets/controls",
            "_model_module_version": "1.5.0",
            "_model_name": "ProgressStyleModel",
            "_view_count": null,
            "_view_module": "@jupyter-widgets/base",
            "_view_module_version": "1.2.0",
            "_view_name": "StyleView",
            "bar_color": null,
            "description_width": ""
          }
        },
        "ef8d9aa9e0814d28a69a820f0f8444eb": {
          "model_module": "@jupyter-widgets/base",
          "model_name": "LayoutModel",
          "model_module_version": "1.2.0",
          "state": {
            "_model_module": "@jupyter-widgets/base",
            "_model_module_version": "1.2.0",
            "_model_name": "LayoutModel",
            "_view_count": null,
            "_view_module": "@jupyter-widgets/base",
            "_view_module_version": "1.2.0",
            "_view_name": "LayoutView",
            "align_content": null,
            "align_items": null,
            "align_self": null,
            "border": null,
            "bottom": null,
            "display": null,
            "flex": null,
            "flex_flow": null,
            "grid_area": null,
            "grid_auto_columns": null,
            "grid_auto_flow": null,
            "grid_auto_rows": null,
            "grid_column": null,
            "grid_gap": null,
            "grid_row": null,
            "grid_template_areas": null,
            "grid_template_columns": null,
            "grid_template_rows": null,
            "height": null,
            "justify_content": null,
            "justify_items": null,
            "left": null,
            "margin": null,
            "max_height": null,
            "max_width": null,
            "min_height": null,
            "min_width": null,
            "object_fit": null,
            "object_position": null,
            "order": null,
            "overflow": null,
            "overflow_x": null,
            "overflow_y": null,
            "padding": null,
            "right": null,
            "top": null,
            "visibility": null,
            "width": null
          }
        },
        "c4da0c3b7a3e4b9c905b368932b57a34": {
          "model_module": "@jupyter-widgets/controls",
          "model_name": "DescriptionStyleModel",
          "model_module_version": "1.5.0",
          "state": {
            "_model_module": "@jupyter-widgets/controls",
            "_model_module_version": "1.5.0",
            "_model_name": "DescriptionStyleModel",
            "_view_count": null,
            "_view_module": "@jupyter-widgets/base",
            "_view_module_version": "1.2.0",
            "_view_name": "StyleView",
            "description_width": ""
          }
        }
      }
    }
  },
  "cells": [
    {
      "cell_type": "code",
      "source": [
        "!pip install transformers accelerate autoawq"
      ],
      "metadata": {
        "id": "1tZ4ao39y6Yx"
      },
      "execution_count": null,
      "outputs": []
    },
    {
      "cell_type": "code",
      "source": [
        "!pip install --upgrade torch torchvision"
      ],
      "metadata": {
        "id": "0Sm5lHGA2wkf"
      },
      "execution_count": null,
      "outputs": []
    },
    {
      "cell_type": "code",
      "execution_count": 31,
      "metadata": {
        "colab": {
          "base_uri": "https://localhost:8080/",
          "height": 81,
          "referenced_widgets": [
            "85d8f6bdb219400c92c9a91abe81e6a7",
            "76f69603f3344c1c8b2e798851f561c4",
            "31a8d648682c4159975122ed9ad333f7",
            "1c2b9aaf19d7448082e32d34e937df76",
            "625369011a4d42c981eeebcf2b5099f0",
            "96b3ef5c5e63425785e0d2c828d5065a",
            "d081cd2b0c684d2aaa19acd005ec3bfa",
            "0c1430b6598e49c29f6ee90c813001e8",
            "1642ed4310674affbd4a65b54c9b5830",
            "4dba74190675476a95be715efe6d814d",
            "655b15db427e40218053b0f73bbd786a",
            "9bddac06c07546b0add939bf43ffa14d",
            "27b32f2480454b6088e6855e1d220565",
            "45dea2a4aea24921a19daa5069b6fac0",
            "6d586f9ac5b0441ebfb4838ca84e4ef7",
            "57325a401b2c41b79d645055f021e796",
            "dc993a1bb9564a9bb7ce15c79338edb8",
            "a4f522e5c4a047628889368659744920",
            "43a25d8c7c4340e1ab5e519fd07f4132",
            "9d75c5aed8444cba9ef438128605784a",
            "ef8d9aa9e0814d28a69a820f0f8444eb",
            "c4da0c3b7a3e4b9c905b368932b57a34"
          ]
        },
        "id": "5OReiHpxyh-i",
        "outputId": "6414da67-0c17-43ea-fe60-959442eddd48"
      },
      "outputs": [
        {
          "output_type": "display_data",
          "data": {
            "text/plain": [
              "Fetching 12 files:   0%|          | 0/12 [00:00<?, ?it/s]"
            ],
            "application/vnd.jupyter.widget-view+json": {
              "version_major": 2,
              "version_minor": 0,
              "model_id": "85d8f6bdb219400c92c9a91abe81e6a7"
            }
          },
          "metadata": {}
        },
        {
          "output_type": "display_data",
          "data": {
            "text/plain": [
              "Loading checkpoint shards:   0%|          | 0/2 [00:00<?, ?it/s]"
            ],
            "application/vnd.jupyter.widget-view+json": {
              "version_major": 2,
              "version_minor": 0,
              "model_id": "9bddac06c07546b0add939bf43ffa14d"
            }
          },
          "metadata": {}
        }
      ],
      "source": [
        "import torch\n",
        "from awq import AutoAWQForCausalLM\n",
        "from transformers import AutoModelForCausalLM, AutoTokenizer\n",
        "\n",
        "model_id = \"hugging-quants/Meta-Llama-3.1-8B-Instruct-AWQ-INT4\"\n",
        "tokenizer = AutoTokenizer.from_pretrained(model_id)\n",
        "model = AutoAWQForCausalLM.from_pretrained(\n",
        "  model_id,\n",
        "  torch_dtype=torch.float16,\n",
        "  low_cpu_mem_usage=True,\n",
        "  device_map=\"auto\",\n",
        ")\n",
        "\n",
        "\n",
        "def generate(input_text):\n",
        "  prompt = [\n",
        "    {\"role\": \"system\", \"content\": \"You are a helpful assistant, that responds in very concise manner with only main points.\"},\n",
        "    {\"role\": \"user\", \"content\": input_text},\n",
        "  ]\n",
        "  inputs = tokenizer.apply_chat_template(\n",
        "    prompt,\n",
        "    tokenize=True,\n",
        "    add_generation_prompt=True,\n",
        "    return_tensors=\"pt\",\n",
        "    return_dict=True,\n",
        "  ).to(\"cuda\")\n",
        "\n",
        "  outputs = model.generate(**inputs, do_sample=True, max_new_tokens=512)\n",
        "  return tokenizer.batch_decode(outputs[:, inputs['input_ids'].shape[1]:], skip_special_tokens=True)[0]"
      ]
    },
    {
      "cell_type": "code",
      "source": [
        "# Import required libraries\n",
        "from pathlib import Path\n",
        "\n",
        "# Set up directories for data\n",
        "data_folder = Path('/content/Data/')\n",
        "pdf_folder = data_folder / \"pdf_folder\"\n",
        "input_json_folder = data_folder / \"input_json_folder\"\n",
        "output_json_folder = data_folder / \"output_json_folder\"\n",
        "\n",
        "# Create directories if they don't exist\n",
        "Path(pdf_folder).mkdir(parents=True, exist_ok=True)\n",
        "Path(input_json_folder).mkdir(parents=True, exist_ok=True)\n",
        "Path(output_json_folder).mkdir(parents=True, exist_ok=True)"
      ],
      "metadata": {
        "id": "DuY_eLiBy6bo"
      },
      "execution_count": 40,
      "outputs": []
    },
    {
      "cell_type": "code",
      "source": [
        "# Install necessary libraries\n",
        "!pip install -q PyMuPDF Pillow pdfplumber pytesseract Faker\n",
        "\n",
        "# Install Tesseract OCR (if needed for OCR tasks)\n",
        "!sudo apt-get install -qq tesseract-ocr\n",
        "\n",
        "# Clone the specific branch from GitHub repository into the pdf_folder\n",
        "!git clone -b pdfs https://github.com/jaimonjacob/codeinventory/ \"/content/Data/pdf_folder\""
      ],
      "metadata": {
        "id": "8x8WzpH8y6eQ"
      },
      "execution_count": null,
      "outputs": []
    },
    {
      "cell_type": "code",
      "source": [
        "# Load the Resume.csv file from the specified path\n",
        "import pandas as pd\n",
        "\n",
        "csv_path = \"/content/Data/Resume.csv\"  # Updated path\n",
        "resumes_df = pd.read_csv(csv_path, sep=';', on_bad_lines='skip')\n",
        "\n",
        "# Display the first few rows of the DataFrame to verify it loaded correctly\n",
        "print(resumes_df.head())"
      ],
      "metadata": {
        "colab": {
          "base_uri": "https://localhost:8080/"
        },
        "id": "FvClUAU-y6gz",
        "outputId": "620d545e-c653-4e86-ba2d-d0f54f8be578"
      },
      "execution_count": 41,
      "outputs": [
        {
          "output_type": "stream",
          "name": "stdout",
          "text": [
            "                  ID,Resume_str,Resume_html,Category\n",
            "0  16852973,\"         HR ADMINISTRATOR/MARKETING ...\n",
            "1  HR Administrator     Dec 2013   to   Current  ...\n",
            "2      \"\"> <div class=\"\"paragraph PARAGRAPH_NAME ...\n",
            "3      \"\"> <div class=\"\"name\"\" itemprop=\"\"name\"\">...\n",
            "4  HR ADMINISTRATOR</span> </div> </div> </div> <...\n"
          ]
        }
      ]
    },
    {
      "cell_type": "code",
      "source": [
        "import os\n",
        "import fitz\n",
        "from PIL import Image\n",
        "import io\n",
        "import pytesseract\n",
        "import json\n",
        "\n",
        "\n",
        "def extract_all_text_from_pdf(pdf_path):\n",
        "    doc = fitz.open(pdf_path)\n",
        "    all_text = \"\"\n",
        "\n",
        "    for page_num in range(len(doc)):\n",
        "        page = doc[page_num]\n",
        "\n",
        "\n",
        "        page_text = page.get_text(\"text\")\n",
        "        all_text += page_text + \"\\n\"\n",
        "\n",
        "        image_list = page.get_images(full=True)\n",
        "        for img in image_list:\n",
        "            xref = img[0]\n",
        "            base_image = doc.extract_image(xref)\n",
        "            image_bytes = base_image[\"image\"]\n",
        "\n",
        "            image = Image.open(io.BytesIO(image_bytes))\n",
        "\n",
        "            ocr_text = pytesseract.image_to_string(image)\n",
        "            all_text += ocr_text + \"\\n\"\n",
        "\n",
        "    return all_text\n",
        "\n",
        "def process_pdfs_in_folder(folder_path):\n",
        "    extracted_data = {}\n",
        "\n",
        "    for filename in os.listdir(folder_path):\n",
        "        if filename.endswith(\".pdf\"):\n",
        "            pdf_path = os.path.join(folder_path, filename)\n",
        "            extracted_text = extract_all_text_from_pdf(pdf_path)\n",
        "\n",
        "\n",
        "            extracted_data[filename] = extracted_text\n",
        "            print(f\"Processed {filename}\")\n",
        "\n",
        "    json_output_path = os.path.join(input_json_folder, \"extracted_resumes.json\")\n",
        "    with open(json_output_path, \"w\", encoding=\"utf-8\") as json_file:\n",
        "        json.dump(extracted_data, json_file, indent=4, ensure_ascii=False)\n",
        "    print(f\"All text saved to {json_output_path}\")\n",
        "\n",
        "folder_path = pdf_folder\n",
        "process_pdfs_in_folder(folder_path)"
      ],
      "metadata": {
        "id": "v4RueCYuy6jt"
      },
      "execution_count": null,
      "outputs": []
    },
    {
      "cell_type": "code",
      "source": [
        "from faker import Faker\n",
        "fake = Faker()\n",
        "\n",
        "def summarize_resume(resume_text):\n",
        "    sections = {\n",
        "        \"Employment History\": \"\",\n",
        "        \"Skills\": \"\",\n",
        "        \"Education\": \"\",\n",
        "        \"Certifications\": \"\"\n",
        "    }\n",
        "\n",
        "    prompts = {\n",
        "        \"Employment History\": \"Summarize the employment history from the following resume: \",\n",
        "        \"Skills\": \"List the skills mentioned in the following resume: \",\n",
        "        \"Education\": \"Summarize the education details from the following resume: \",\n",
        "        \"Certifications\": \"List any certifications mentioned in the following resume: \"\n",
        "    }\n",
        "\n",
        "    for section, prompt in prompts.items():\n",
        "        input_text = prompt + resume_text\n",
        "        summary = generate(input_text)\n",
        "        sections[section] = summary\n",
        "\n",
        "    sections[\"Name\"] = fake.name()\n",
        "    return sections\n",
        "\n",
        "def process_resumes_from_json(json_file_path):\n",
        "    with open(json_file_path, \"r\", encoding=\"utf-8\") as json_file:\n",
        "        resumes = json.load(json_file)\n",
        "\n",
        "    summarized_resumes = {}\n",
        "\n",
        "    for filename, resume_text in resumes.items():\n",
        "        summarized_resumes[filename] = summarize_resume(resume_text)\n",
        "        print(f\"Summarized {filename}\")\n",
        "\n",
        "    with open(summarized_json_file_path, \"w\", encoding=\"utf-8\") as output_json_file:\n",
        "        json.dump(summarized_resumes, output_json_file, indent=4, ensure_ascii=False)\n",
        "    print(f\"All resumes summarized and saved to {summarized_json_file_path}\")\n",
        "\n",
        "json_file_path = input_json_folder / \"extracted_resumes.json\"\n",
        "summarized_json_file_path = output_json_folder / \"summarized_resumes.json\"\n",
        "process_resumes_from_json(json_file_path)"
      ],
      "metadata": {
        "id": "ErrprsyXy6o2"
      },
      "execution_count": null,
      "outputs": []
    },
    {
      "cell_type": "code",
      "source": [
        "ideal = f\"\"\"\n",
        "\n",
        "### **Experience:**\n",
        "\n",
        "**Data Scientist**\n",
        "XYZ Analytics, City, State\n",
        "*January 2020 – Present*\n",
        "- Developed machine learning models to predict customer behavior, improving targeting strategies.\n",
        "- Analyzed large datasets to extract insights and optimize business processes.\n",
        "- Collaborated with cross-functional teams to implement data-driven solutions.\n",
        "- Led the deployment of AI-powered tools that increased operational efficiency by 20%.\n",
        "\n",
        "**Junior Data Scientist**\n",
        "Tech Innovators, City, State\n",
        "*June 2017 – December 2019*\n",
        "- Assisted in the development and maintenance of predictive models for financial forecasting.\n",
        "- Conducted statistical analysis and data cleaning to prepare datasets for modeling.\n",
        "- Created interactive dashboards using Tableau and Power BI for data visualization.\n",
        "- Presented findings to stakeholders, helping to inform key business decisions.\n",
        "\n",
        "### **Skills:**\n",
        "- Machine Learning (Supervised & Unsupervised)\n",
        "- Statistical Analysis & Data Visualization\n",
        "- Data Cleaning & Feature Engineering\n",
        "- Python (Pandas, NumPy, Scikit-learn, TensorFlow)\n",
        "- SQL & NoSQL Databases\n",
        "- Data Visualization Tools (Tableau, Power BI, Matplotlib)\n",
        "- Big Data Technologies (Hadoop, Spark)\n",
        "- Cloud Platforms (AWS, Azure)\n",
        "- Model Deployment (Flask, FastAPI, Docker)\n",
        "\n",
        "### **Education:**\n",
        "\n",
        "**M.S. in Data Science**\n",
        "State University, City, State\n",
        "*May 2017*\n",
        "\n",
        "**B.S. in Computer Science**\n",
        "State University, City, State\n",
        "*May 2015*\n",
        "\n",
        "### **Certifications:**\n",
        "- Certified Data Scientist (CDS)\n",
        "- Google Cloud Professional Data Engineer\n",
        "- Microsoft Certified: Azure Data Scientist Associate\n",
        "- Coursera: Deep Learning Specialization\n",
        "\"\"\"\n"
      ],
      "metadata": {
        "id": "gfC7amB0y6mL"
      },
      "execution_count": 44,
      "outputs": []
    },
    {
      "cell_type": "code",
      "source": [
        "with open(summarized_json_file_path, \"r\", encoding=\"utf-8\") as json_file:\n",
        "  jsfile = json.load(json_file)\n",
        "\n",
        "final_results = []\n",
        "for file, details in jsfile.items():\n",
        "    output = \"\"\n",
        "    output += f\"Name:\\n{details['Name']}\\n\\n\"\n",
        "    output += f\"Employment History:\\n{details['Employment History']}\\n\\n\"\n",
        "    output += f\"Skills:\\n{details['Skills']}\\n\\n\"\n",
        "    output += f\"Education:\\n{details['Education']}\\n\\n\"\n",
        "    output += f\"Certifications:\\n{details['Certifications']}\\n\\n\"\n",
        "    output += \"\\n\" + \"-\"*40 + \"\\n\\n\"\n",
        "    result = generate(f\"I am hiring for a Data Scientist. I need you to compare the candidate resume with the ideal resume and give me a summary of your thoughts by mentioning the name of the candidate. I am more focused on experience and skills than education or certifications. All the summaries should follow the same format with these sections: Name; Score out of 10; Summary; and AI suggestion. The AI suggestion should specify whether we should hire the candidate or not and why. Ideal resume: {ideal}. Candidate resume: {output}\")\n",
        "    print(result)\n",
        "    final_results.append(result)"
      ],
      "metadata": {
        "id": "2ouhbDZ2y6rS"
      },
      "execution_count": null,
      "outputs": []
    },
    {
      "cell_type": "code",
      "source": [
        "from IPython.display import Markdown\n",
        "\n",
        "for result in final_results:\n",
        "  Markdown(print(result))"
      ],
      "metadata": {
        "colab": {
          "base_uri": "https://localhost:8080/"
        },
        "id": "xbY7TC6oy6uE",
        "outputId": "c493b934-d88d-4bab-a87f-11c60ffbcab5"
      },
      "execution_count": 46,
      "outputs": [
        {
          "output_type": "stream",
          "name": "stdout",
          "text": [
            "**Name:** Jennifer Smith; **Score:** 6/10; **Summary:** Jennifer has relevant internship experience at Niantic, but her role was an intern, and her experience is limited to a single company. She lacks experience in leading projects or teams and has limited skills in data visualization and cloud platforms. **AI Suggestion:** Do not hire Jennifer, as her experience is not as extensive as required for the Data Scientist position.\n",
            "**Name:** Timothy May  \n",
            "**Score:** 2/10  \n",
            "**Summary:** The candidate lacks relevant experience in data science, with a history of management and technical support roles. The skills mentioned are not directly applicable to data science.  \n",
            "**AI Suggestion:** Do not hire Timothy May. His experience and skills are not aligned with the ideal data scientist resume.\n",
            "**Name:** Keith Martin\n",
            "**Score:** 8/10\n",
            "**Summary:** Keith Martin has relevant experience as a Data Scientist, with notable achievements in deploying recommendation engines, improving customer wait times, and increasing driver availability. However, his experience is primarily in food delivery and analytics, which might be less diverse than ideal.\n",
            "**AI Suggestion:** Hire Keith Martin, as his experience and skills align closely with the ideal resume, and his achievements demonstrate his ability to drive business value with data science.\n",
            "**Jennifer Grimes; 2/10;**\n",
            "Summary: Jennifer's resume lacks relevant experience and skills for a Data Scientist position. Her background is primarily in HR and customer service, with no direct experience in data science or analytics. \n",
            "\n",
            "**AI Suggestion: Do not hire Jennifer Grimes for the Data Scientist position.**\n",
            "**Dawn Phillips; 2/10;**\n",
            "Summary: Dawn's resume lacks any relevant experience or skills in data science. Her background is primarily in accounting and finance management, which does not align with the ideal resume. She has no experience with machine learning, statistical analysis, or data visualization.\n",
            "\n",
            "**AI Suggestion:** Do not hire Dawn Phillips as she does not meet the requirements for the Data Scientist position.\n",
            "**Cynthia Thomas; 6/10; Summary:** \n",
            "Cynthia has some relevant experience and skills, but lacks experience in industry or a company setting. Her intern experience is impressive, but the company is not a well-known entity. She also lacks experience in data deployment and model maintenance.\n",
            "\n",
            "**AI Suggestion:** Do not hire Cynthia. While she has some relevant skills, her lack of industry experience and company-level projects makes her less suitable for a Data Scientist role.\n",
            "**Pamela Graves; 2/10;**\n",
            "Pamela's experience is mostly in HR, lacking any relevant data science or technical experience. Her skills are mostly in HR software and procedures. She has no experience with machine learning, statistical analysis, or data visualization.\n",
            "\n",
            "**AI Suggestion: Not Hire;**\n",
            "Pamela's background is not relevant to the Data Scientist position, and her skills are not aligned with the ideal resume.\n",
            "**Name:** Bobby Herman\n",
            "**Score:** 8/10\n",
            "**Summary:** Strong experience in data science, with notable achievements in improving revenue and customer retention. However, lacks exposure to cloud platforms and big data technologies.\n",
            "**AI Suggestion:** Hire, due to strong experience in data science and notable achievements, but consider providing training on cloud platforms and big data technologies to fill the gap.\n",
            "**Name:** Jason Clarke\n",
            "**Score:** 0/10\n",
            "**Summary:** Jason Clarke's experience is entirely unrelated to the ideal Data Scientist resume. His background is in finance and accounting, with no experience in data science or related fields.\n",
            "**AI Suggestion:** Do not hire Jason Clarke as a Data Scientist. His skills and experience are not aligned with the role, and he lacks the necessary skills and expertise in data science.\n",
            "**Scott Allison; Score: 2/10; Summary: Lacks relevant experience and skills for Data Scientist role; AI Suggestion: Do not hire.**\n",
            "\n",
            "Reason: \n",
            "- No direct experience in data science or related fields.\n",
            "- Skills listed are mostly unrelated to data science, such as network engineering, helpdesk administration, and ERP management.\n",
            "- Education background is in leadership, information systems management, and mechanical engineering, which is not relevant to the Data Scientist role.\n",
            "- Certifications are also not relevant to the Data Scientist role.\n",
            "**Name:** Patrick Hernandez; **Score:** 2/10; **Summary:** Patrick Hernandez lacks relevant experience and skills as a Data Scientist. His work experience is primarily in HR and administrative roles, which doesn't align with the ideal resume. He has some general skills like Microsoft Office and time management, but they are not specific to data science. **AI Suggestion:** Do not hire Patrick Hernandez.\n",
            "**Chelsea Ortiz; 2/10; Summary: Chelsea lacks direct experience in data science and machine learning, but has experience in data analysis and manipulation. Her skills are mostly related to engineering and hardware design. She has a strong educational background in Electrical and Computer Engineering from Purdue University.**\n",
            "\n",
            "AI Suggestion: **Do not hire Chelsea Ortiz.** Her skills and experience are not a good fit for the Data Scientist role, and she would require significant training and development to meet the job requirements.\n",
            "**Larry Jones; 8/10; Summary:** Strong candidate with diverse experience in data science, but lacks clear specialization in machine learning or deep learning. He has demonstrated proficiency in natural language processing, data analysis, and cloud computing. However, his experience is mostly focused on industry applications rather than academic or research settings.\n",
            "\n",
            "**AI Suggestion:** Hire Larry Jones, as his diverse experience and skills can be valuable in a data science role. However, provide additional training or support to help him develop his machine learning and deep learning skills.\n",
            "**Julie Craig; 2/10;**\n",
            "Summary: Julie's experience is mostly in IT and networking, lacking relevant data science and machine learning skills. Her education and certifications are also not in line with the ideal resume. AI Suggestion: Do not hire Julie Craig as she does not meet the required skills and experience for the Data Scientist position.\n",
            "**Name:** William Davis  \n",
            "**Score:** 6/10  \n",
            "**Summary:** William Davis has some relevant experience in data entry and data processing, but lacks hands-on experience as a Data Scientist. His skills in Python, Pandas, and Scikit-learn are good, but his experience is mostly limited to data entry and data processing.  \n",
            "**AI Suggestion:** Do not hire William Davis at this time.\n"
          ]
        }
      ]
    },
    {
      "cell_type": "code",
      "source": [],
      "metadata": {
        "id": "IAsMrgliy6ww"
      },
      "execution_count": null,
      "outputs": []
    },
    {
      "cell_type": "code",
      "source": [],
      "metadata": {
        "id": "aKSCCpxWy6zW"
      },
      "execution_count": null,
      "outputs": []
    },
    {
      "cell_type": "code",
      "source": [],
      "metadata": {
        "id": "itGnU8p_y62M"
      },
      "execution_count": null,
      "outputs": []
    },
    {
      "cell_type": "code",
      "source": [],
      "metadata": {
        "id": "i0FSbEb1y67n"
      },
      "execution_count": null,
      "outputs": []
    },
    {
      "cell_type": "code",
      "source": [],
      "metadata": {
        "id": "uy0YfFh_y6-f"
      },
      "execution_count": null,
      "outputs": []
    },
    {
      "cell_type": "code",
      "source": [],
      "metadata": {
        "id": "7wD62sk0y7BV"
      },
      "execution_count": null,
      "outputs": []
    },
    {
      "cell_type": "code",
      "source": [],
      "metadata": {
        "id": "rbnXxBTLy7D2"
      },
      "execution_count": null,
      "outputs": []
    },
    {
      "cell_type": "code",
      "source": [],
      "metadata": {
        "id": "IeGUO4Pby7Gv"
      },
      "execution_count": null,
      "outputs": []
    },
    {
      "cell_type": "code",
      "source": [],
      "metadata": {
        "id": "OkESFhyAy7Jd"
      },
      "execution_count": null,
      "outputs": []
    },
    {
      "cell_type": "code",
      "source": [],
      "metadata": {
        "id": "rMHGN9TVy7MC"
      },
      "execution_count": null,
      "outputs": []
    },
    {
      "cell_type": "code",
      "source": [],
      "metadata": {
        "id": "Lpb1swbDy7PI"
      },
      "execution_count": null,
      "outputs": []
    },
    {
      "cell_type": "code",
      "source": [],
      "metadata": {
        "id": "4ShV8aREy7R-"
      },
      "execution_count": null,
      "outputs": []
    },
    {
      "cell_type": "code",
      "source": [],
      "metadata": {
        "id": "FkmEqjXuy7Ux"
      },
      "execution_count": null,
      "outputs": []
    },
    {
      "cell_type": "code",
      "source": [],
      "metadata": {
        "id": "cJ7JDveny7Xf"
      },
      "execution_count": null,
      "outputs": []
    },
    {
      "cell_type": "code",
      "source": [],
      "metadata": {
        "id": "YqaoHlsPy7aV"
      },
      "execution_count": null,
      "outputs": []
    },
    {
      "cell_type": "code",
      "source": [],
      "metadata": {
        "id": "zVyRtlWgy7dN"
      },
      "execution_count": null,
      "outputs": []
    },
    {
      "cell_type": "code",
      "source": [],
      "metadata": {
        "id": "guEM-1gpy7gG"
      },
      "execution_count": null,
      "outputs": []
    },
    {
      "cell_type": "code",
      "source": [],
      "metadata": {
        "id": "A6jEu5-Jy7ig"
      },
      "execution_count": null,
      "outputs": []
    },
    {
      "cell_type": "code",
      "source": [],
      "metadata": {
        "id": "q_oUep8fy7nn"
      },
      "execution_count": null,
      "outputs": []
    },
    {
      "cell_type": "code",
      "source": [],
      "metadata": {
        "id": "AY1Bi1Yjy7qa"
      },
      "execution_count": null,
      "outputs": []
    },
    {
      "cell_type": "code",
      "source": [],
      "metadata": {
        "id": "naezbgOmy7tL"
      },
      "execution_count": null,
      "outputs": []
    },
    {
      "cell_type": "code",
      "source": [],
      "metadata": {
        "id": "83WAwDH7y7vu"
      },
      "execution_count": null,
      "outputs": []
    },
    {
      "cell_type": "code",
      "source": [],
      "metadata": {
        "id": "2VjcOMASy7yS"
      },
      "execution_count": null,
      "outputs": []
    },
    {
      "cell_type": "code",
      "source": [],
      "metadata": {
        "id": "6iQXYpkMy71K"
      },
      "execution_count": null,
      "outputs": []
    },
    {
      "cell_type": "code",
      "source": [],
      "metadata": {
        "id": "KMuLQWDuy74B"
      },
      "execution_count": null,
      "outputs": []
    },
    {
      "cell_type": "code",
      "source": [],
      "metadata": {
        "id": "e6SD6qfzy77M"
      },
      "execution_count": null,
      "outputs": []
    },
    {
      "cell_type": "code",
      "source": [],
      "metadata": {
        "id": "pKKTMow1y7-C"
      },
      "execution_count": null,
      "outputs": []
    },
    {
      "cell_type": "code",
      "source": [],
      "metadata": {
        "id": "rUkGRFhly8A9"
      },
      "execution_count": null,
      "outputs": []
    },
    {
      "cell_type": "code",
      "source": [],
      "metadata": {
        "id": "5bXVqadUy8De"
      },
      "execution_count": null,
      "outputs": []
    },
    {
      "cell_type": "code",
      "source": [],
      "metadata": {
        "id": "tjZJuLZpy8GK"
      },
      "execution_count": null,
      "outputs": []
    },
    {
      "cell_type": "code",
      "source": [],
      "metadata": {
        "id": "52h6gbOjy8Ig"
      },
      "execution_count": null,
      "outputs": []
    }
  ]
}